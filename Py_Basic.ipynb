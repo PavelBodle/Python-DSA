{
  "nbformat": 4,
  "nbformat_minor": 0,
  "metadata": {
    "colab": {
      "provenance": [],
      "authorship_tag": "ABX9TyPSpZlVhBIv1U6y1o+r8O4D",
      "include_colab_link": true
    },
    "kernelspec": {
      "name": "python3",
      "display_name": "Python 3"
    },
    "language_info": {
      "name": "python"
    }
  },
  "cells": [
    {
      "cell_type": "markdown",
      "metadata": {
        "id": "view-in-github",
        "colab_type": "text"
      },
      "source": [
        "<a href=\"https://colab.research.google.com/github/PavelBodle/Python-DSA/blob/main/Py_Basic.ipynb\" target=\"_parent\"><img src=\"https://colab.research.google.com/assets/colab-badge.svg\" alt=\"Open In Colab\"/></a>"
      ]
    },
    {
      "cell_type": "markdown",
      "source": [
        "# Operators in Python\n",
        "\n",
        "- **Arithmetic**: `+`, `-`, `*`, `/`, `%`, `**`, `//`\n",
        "- **Comparison**: `==`, `!=`, `>`, `<`, `>=`, `<=`\n",
        "- **Logical**: `and`, `or`, `not`\n",
        "- **Bitwise**: `&`, `|`, `^`, `~`, `<<`, `>>`\n",
        "- **Assignment**: `=`, `+=`, `-=`, `*=`, `/=`, `%=`, `**=`, `//=`\n",
        "- **Identity**: `is`, `is not`\n",
        "- **Membership**: `in`, `not in`"
      ],
      "metadata": {
        "id": "JdlH09-EmOEM"
      }
    },
    {
      "cell_type": "code",
      "source": [
        "import keyword\n",
        "print(keyword.kwlist)"
      ],
      "metadata": {
        "colab": {
          "base_uri": "https://localhost:8080/"
        },
        "id": "LLTejZW9lzAr",
        "outputId": "8c0e553c-7811-4c93-a919-c57e78a069e2"
      },
      "execution_count": null,
      "outputs": [
        {
          "output_type": "stream",
          "name": "stdout",
          "text": [
            "['False', 'None', 'True', 'and', 'as', 'assert', 'async', 'await', 'break', 'class', 'continue', 'def', 'del', 'elif', 'else', 'except', 'finally', 'for', 'from', 'global', 'if', 'import', 'in', 'is', 'lambda', 'nonlocal', 'not', 'or', 'pass', 'raise', 'return', 'try', 'while', 'with', 'yield']\n"
          ]
        }
      ]
    },
    {
      "cell_type": "markdown",
      "source": [
        "# List Comprehensions"
      ],
      "metadata": {
        "id": "onl7hTWYyk3O"
      }
    },
    {
      "cell_type": "code",
      "source": [
        "myList = [1,2,3,4,5]\n",
        "[2*item for item in myList]"
      ],
      "metadata": {
        "id": "2LHS__RuqXDI",
        "outputId": "7253111b-068c-4fde-eec1-5554353c22c9",
        "colab": {
          "base_uri": "https://localhost:8080/"
        }
      },
      "execution_count": 1,
      "outputs": [
        {
          "output_type": "execute_result",
          "data": {
            "text/plain": [
              "[2, 4, 6, 8, 10]"
            ]
          },
          "metadata": {},
          "execution_count": 1
        }
      ]
    },
    {
      "cell_type": "code",
      "source": [
        "# List comprehensions with filters\n",
        "\n",
        "[i for i in range(1,11) if i%2 == 0]\n",
        "\n",
        "[item for item in range(101) if item % 10 == 0]"
      ],
      "metadata": {
        "id": "R6FVzTH6ytOO",
        "outputId": "76ddd341-ce30-4daf-b2fb-41f26e7f581d",
        "colab": {
          "base_uri": "https://localhost:8080/"
        }
      },
      "execution_count": 6,
      "outputs": [
        {
          "output_type": "execute_result",
          "data": {
            "text/plain": [
              "[0, 10, 20, 30, 40, 50, 60, 70, 80, 90, 100]"
            ]
          },
          "metadata": {},
          "execution_count": 6
        }
      ]
    },
    {
      "cell_type": "code",
      "source": [
        "# List comprehensions with functions\n",
        "word = 'My name is PAVEL. I live in PUNE'\n",
        "\n",
        "def cleanWord(word):\n",
        "  return word.replace('.', '').lower()\n",
        "\n",
        "cleanWord(word)"
      ],
      "metadata": {
        "id": "4EuIl44m0t9O",
        "outputId": "099a7805-0521-4319-c3d7-9ba9a558f77e",
        "colab": {
          "base_uri": "https://localhost:8080/",
          "height": 35
        }
      },
      "execution_count": 9,
      "outputs": [
        {
          "output_type": "execute_result",
          "data": {
            "text/plain": [
              "'my name is pavel i live in pune'"
            ],
            "application/vnd.google.colaboratory.intrinsic+json": {
              "type": "string"
            }
          },
          "metadata": {},
          "execution_count": 9
        }
      ]
    },
    {
      "cell_type": "code",
      "source": [
        "[i for i in word.split()]"
      ],
      "metadata": {
        "id": "ggSFLB2l164r",
        "outputId": "9fa7ed20-0d06-4030-b21e-1c48ec739b48",
        "colab": {
          "base_uri": "https://localhost:8080/"
        }
      },
      "execution_count": 10,
      "outputs": [
        {
          "output_type": "execute_result",
          "data": {
            "text/plain": [
              "['My', 'name', 'is', 'PAVEL.', 'I', 'live', 'in', 'PUNE']"
            ]
          },
          "metadata": {},
          "execution_count": 10
        }
      ]
    },
    {
      "cell_type": "code",
      "source": [
        "[cleanWord(i) for i in word.split()]"
      ],
      "metadata": {
        "id": "JzarH_f82gj6",
        "outputId": "8f918d6a-8eaf-4256-d32f-38ed4b770499",
        "colab": {
          "base_uri": "https://localhost:8080/"
        }
      },
      "execution_count": 11,
      "outputs": [
        {
          "output_type": "execute_result",
          "data": {
            "text/plain": [
              "['my', 'name', 'is', 'pavel', 'i', 'live', 'in', 'pune']"
            ]
          },
          "metadata": {},
          "execution_count": 11
        }
      ]
    },
    {
      "cell_type": "code",
      "source": [
        "[cleanWord(word) for word in word.split() if len(cleanWord(word)) > 3]"
      ],
      "metadata": {
        "id": "drNo56-p2mJV",
        "outputId": "d331b60c-a242-4179-f9de-f6414db80bbc",
        "colab": {
          "base_uri": "https://localhost:8080/"
        }
      },
      "execution_count": 13,
      "outputs": [
        {
          "output_type": "execute_result",
          "data": {
            "text/plain": [
              "['name', 'pavel', 'live', 'pune']"
            ]
          },
          "metadata": {},
          "execution_count": 13
        }
      ]
    },
    {
      "cell_type": "code",
      "source": [
        "# Nested list comprehensions\n",
        "\n",
        "[[cleanWord(word) for word in sentence.split()] for sentence in word.split('.')]\n",
        "\n"
      ],
      "metadata": {
        "id": "aQoolrZ33AiP",
        "outputId": "cec4f4b6-0324-474d-df36-4439ee6d0fc7",
        "colab": {
          "base_uri": "https://localhost:8080/"
        }
      },
      "execution_count": 20,
      "outputs": [
        {
          "output_type": "execute_result",
          "data": {
            "text/plain": [
              "[['my', 'name', 'is', 'pavel'], ['i', 'live', 'in', 'pune']]"
            ]
          },
          "metadata": {},
          "execution_count": 20
        }
      ]
    },
    {
      "cell_type": "code",
      "source": [],
      "metadata": {
        "id": "1BwKX3OF4EvN"
      },
      "execution_count": null,
      "outputs": []
    }
  ]
}