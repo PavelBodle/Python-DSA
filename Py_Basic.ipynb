{
  "nbformat": 4,
  "nbformat_minor": 0,
  "metadata": {
    "colab": {
      "provenance": [],
      "authorship_tag": "ABX9TyO1fFGvoOqomBoeWX1o62ui",
      "include_colab_link": true
    },
    "kernelspec": {
      "name": "python3",
      "display_name": "Python 3"
    },
    "language_info": {
      "name": "python"
    }
  },
  "cells": [
    {
      "cell_type": "markdown",
      "metadata": {
        "id": "view-in-github",
        "colab_type": "text"
      },
      "source": [
        "<a href=\"https://colab.research.google.com/github/PavelBodle/Python-DSA/blob/main/Py_Basic.ipynb\" target=\"_parent\"><img src=\"https://colab.research.google.com/assets/colab-badge.svg\" alt=\"Open In Colab\"/></a>"
      ]
    },
    {
      "cell_type": "markdown",
      "source": [
        "# Operators in Python\n",
        "\n",
        "- **Arithmetic**: `+`, `-`, `*`, `/`, `%`, `**`, `//`\n",
        "- **Comparison**: `==`, `!=`, `>`, `<`, `>=`, `<=`\n",
        "- **Logical**: `and`, `or`, `not`\n",
        "- **Bitwise**: `&`, `|`, `^`, `~`, `<<`, `>>`\n",
        "- **Assignment**: `=`, `+=`, `-=`, `*=`, `/=`, `%=`, `**=`, `//=`\n",
        "- **Identity**: `is`, `is not`\n",
        "- **Membership**: `in`, `not in`"
      ],
      "metadata": {
        "id": "JdlH09-EmOEM"
      }
    },
    {
      "cell_type": "markdown",
      "source": [
        "= Assignment operator\n",
        "\n",
        "+= Addition assignment\n",
        "\n",
        "-= Subtraction assignment\n",
        "\n",
        "*= Multiplication assignment\n",
        "\n",
        "/= Division assignment\n",
        "\n",
        "//= Floor division assignment\n",
        "\n",
        "%= Remainder assignment\n",
        "\n",
        "**= Exponent assignment"
      ],
      "metadata": {
        "id": "0zA4B9Bdrnw3"
      }
    },
    {
      "cell_type": "code",
      "source": [
        "import keyword\n",
        "print(keyword.kwlist)"
      ],
      "metadata": {
        "colab": {
          "base_uri": "https://localhost:8080/"
        },
        "id": "LLTejZW9lzAr",
        "outputId": "8c0e553c-7811-4c93-a919-c57e78a069e2"
      },
      "execution_count": null,
      "outputs": [
        {
          "output_type": "stream",
          "name": "stdout",
          "text": [
            "['False', 'None', 'True', 'and', 'as', 'assert', 'async', 'await', 'break', 'class', 'continue', 'def', 'del', 'elif', 'else', 'except', 'finally', 'for', 'from', 'global', 'if', 'import', 'in', 'is', 'lambda', 'nonlocal', 'not', 'or', 'pass', 'raise', 'return', 'try', 'while', 'with', 'yield']\n"
          ]
        }
      ]
    },
    {
      "cell_type": "markdown",
      "source": [
        "# Functions\n",
        "\n",
        "## Parameter:\n",
        "\n",
        "A parameter is a variable listed inside the parentheses in the function definition. It acts as a placeholder for a value that the function expects to receive when it is called.\n",
        "\n",
        "## Argument:\n",
        "\n",
        "An argument is the actual value that is passed to the function when it is called. It is the data that the function will use to perform its operations."
      ],
      "metadata": {
        "id": "9YF-EAyFhz52"
      }
    },
    {
      "cell_type": "code",
      "source": [
        "def greet(name):  # name is a parameter\n",
        "    print(\"Hello, \" + name)\n",
        "\n",
        "greet(\"Alice\")  # \"Alice\" is an argument\n",
        "greet(\"Bob\")    # \"Bob\" is an argument"
      ],
      "metadata": {
        "id": "VuDdZE6lh1ac",
        "outputId": "183cf01e-e8ba-4c75-c3ee-e9c6dc5b3ced",
        "colab": {
          "base_uri": "https://localhost:8080/"
        }
      },
      "execution_count": null,
      "outputs": [
        {
          "output_type": "stream",
          "name": "stdout",
          "text": [
            "Hello, Alice\n",
            "Hello, Bob\n"
          ]
        }
      ]
    },
    {
      "cell_type": "markdown",
      "source": [
        "Types of arguments in python:\n",
        "\n",
        "    Positional Arguments\n",
        "    Keyword Arguments"
      ],
      "metadata": {
        "id": "s38m8wt5i2b2"
      }
    },
    {
      "cell_type": "code",
      "source": [],
      "metadata": {
        "id": "R_mmXfNZi80V"
      },
      "execution_count": null,
      "outputs": []
    },
    {
      "cell_type": "markdown",
      "source": [
        "# List Comprehensions"
      ],
      "metadata": {
        "id": "onl7hTWYyk3O"
      }
    },
    {
      "cell_type": "code",
      "source": [
        "myList = [1,2,3,4,5]\n",
        "[2*item for item in myList]"
      ],
      "metadata": {
        "id": "2LHS__RuqXDI",
        "colab": {
          "base_uri": "https://localhost:8080/"
        },
        "outputId": "7253111b-068c-4fde-eec1-5554353c22c9"
      },
      "execution_count": null,
      "outputs": [
        {
          "output_type": "execute_result",
          "data": {
            "text/plain": [
              "[2, 4, 6, 8, 10]"
            ]
          },
          "metadata": {},
          "execution_count": 1
        }
      ]
    },
    {
      "cell_type": "code",
      "source": [
        "# List comprehensions with filters\n",
        "\n",
        "[i for i in range(1,11) if i%2 == 0]\n",
        "\n",
        "[item for item in range(101) if item % 10 == 0]"
      ],
      "metadata": {
        "colab": {
          "base_uri": "https://localhost:8080/"
        },
        "id": "R6FVzTH6ytOO",
        "outputId": "76ddd341-ce30-4daf-b2fb-41f26e7f581d"
      },
      "execution_count": null,
      "outputs": [
        {
          "output_type": "execute_result",
          "data": {
            "text/plain": [
              "[0, 10, 20, 30, 40, 50, 60, 70, 80, 90, 100]"
            ]
          },
          "metadata": {},
          "execution_count": 6
        }
      ]
    },
    {
      "cell_type": "code",
      "source": [
        "# List comprehensions with functions\n",
        "word = 'My name is PAVEL. I live in PUNE'\n",
        "\n",
        "def cleanWord(word):\n",
        "  return word.replace('.', '').lower()\n",
        "\n",
        "cleanWord(word)"
      ],
      "metadata": {
        "colab": {
          "base_uri": "https://localhost:8080/",
          "height": 35
        },
        "id": "4EuIl44m0t9O",
        "outputId": "099a7805-0521-4319-c3d7-9ba9a558f77e"
      },
      "execution_count": null,
      "outputs": [
        {
          "output_type": "execute_result",
          "data": {
            "text/plain": [
              "'my name is pavel i live in pune'"
            ],
            "application/vnd.google.colaboratory.intrinsic+json": {
              "type": "string"
            }
          },
          "metadata": {},
          "execution_count": 9
        }
      ]
    },
    {
      "cell_type": "code",
      "source": [
        "[i for i in word.split()]"
      ],
      "metadata": {
        "colab": {
          "base_uri": "https://localhost:8080/"
        },
        "id": "ggSFLB2l164r",
        "outputId": "9fa7ed20-0d06-4030-b21e-1c48ec739b48"
      },
      "execution_count": null,
      "outputs": [
        {
          "output_type": "execute_result",
          "data": {
            "text/plain": [
              "['My', 'name', 'is', 'PAVEL.', 'I', 'live', 'in', 'PUNE']"
            ]
          },
          "metadata": {},
          "execution_count": 10
        }
      ]
    },
    {
      "cell_type": "code",
      "source": [
        "[cleanWord(i) for i in word.split()]"
      ],
      "metadata": {
        "colab": {
          "base_uri": "https://localhost:8080/"
        },
        "id": "JzarH_f82gj6",
        "outputId": "8f918d6a-8eaf-4256-d32f-38ed4b770499"
      },
      "execution_count": null,
      "outputs": [
        {
          "output_type": "execute_result",
          "data": {
            "text/plain": [
              "['my', 'name', 'is', 'pavel', 'i', 'live', 'in', 'pune']"
            ]
          },
          "metadata": {},
          "execution_count": 11
        }
      ]
    },
    {
      "cell_type": "code",
      "source": [
        "[cleanWord(word) for word in word.split() if len(cleanWord(word)) > 3]"
      ],
      "metadata": {
        "colab": {
          "base_uri": "https://localhost:8080/"
        },
        "id": "drNo56-p2mJV",
        "outputId": "d331b60c-a242-4179-f9de-f6414db80bbc"
      },
      "execution_count": null,
      "outputs": [
        {
          "output_type": "execute_result",
          "data": {
            "text/plain": [
              "['name', 'pavel', 'live', 'pune']"
            ]
          },
          "metadata": {},
          "execution_count": 13
        }
      ]
    },
    {
      "cell_type": "code",
      "source": [
        "# Nested list comprehensions\n",
        "\n",
        "[[cleanWord(word) for word in sentence.split()] for sentence in word.split('.')]\n",
        "\n"
      ],
      "metadata": {
        "colab": {
          "base_uri": "https://localhost:8080/"
        },
        "id": "aQoolrZ33AiP",
        "outputId": "cec4f4b6-0324-474d-df36-4439ee6d0fc7"
      },
      "execution_count": null,
      "outputs": [
        {
          "output_type": "execute_result",
          "data": {
            "text/plain": [
              "[['my', 'name', 'is', 'pavel'], ['i', 'live', 'in', 'pune']]"
            ]
          },
          "metadata": {},
          "execution_count": 20
        }
      ]
    },
    {
      "cell_type": "markdown",
      "source": [
        "# If statements with \"FizzBuzz\""
      ],
      "metadata": {
        "id": "1QHxgHSV-jJm"
      }
    },
    {
      "cell_type": "code",
      "source": [
        "\n",
        "for n in range(1, 20):\n",
        "    if n % 15 == 0:\n",
        "        print('FizzBuzz')\n",
        "    elif n % 3 == 0:\n",
        "        print('Fizz')\n",
        "    elif n % 5 == 0:\n",
        "        print('Buzz')\n",
        "    else:\n",
        "        print(n)"
      ],
      "metadata": {
        "collapsed": true,
        "colab": {
          "base_uri": "https://localhost:8080/"
        },
        "id": "0cS_5k7N-i8P",
        "outputId": "761f6580-825b-4b7e-d832-eeb1bd497d6a"
      },
      "execution_count": null,
      "outputs": [
        {
          "output_type": "stream",
          "name": "stdout",
          "text": [
            "1\n",
            "2\n",
            "Fizz\n",
            "4\n",
            "Buzz\n",
            "Fizz\n",
            "7\n",
            "8\n",
            "Fizz\n",
            "Buzz\n",
            "11\n",
            "Fizz\n",
            "13\n",
            "14\n",
            "FizzBuzz\n",
            "16\n",
            "17\n",
            "Fizz\n",
            "19\n"
          ]
        }
      ]
    },
    {
      "cell_type": "code",
      "source": [
        "# Single Line if statements\n",
        "n = 10\n",
        "'Fizz' if n % 2 == 0 else 'No Prime'"
      ],
      "metadata": {
        "colab": {
          "base_uri": "https://localhost:8080/",
          "height": 35
        },
        "id": "1BwKX3OF4EvN",
        "outputId": "515925da-2a13-4c6b-d9d7-30d8e0dc190a"
      },
      "execution_count": null,
      "outputs": [
        {
          "output_type": "execute_result",
          "data": {
            "text/plain": [
              "'Fizz'"
            ],
            "application/vnd.google.colaboratory.intrinsic+json": {
              "type": "string"
            }
          },
          "metadata": {},
          "execution_count": 25
        }
      ]
    },
    {
      "cell_type": "code",
      "source": [
        "'Fizz' if n % 3 == 0 else 'Buzz' if n % 5 == 0 else n"
      ],
      "metadata": {
        "colab": {
          "base_uri": "https://localhost:8080/",
          "height": 35
        },
        "id": "CPxXWPN2_HMB",
        "outputId": "2c818144-d588-4dc5-d9b6-e469d2da6204"
      },
      "execution_count": null,
      "outputs": [
        {
          "output_type": "execute_result",
          "data": {
            "text/plain": [
              "'Buzz'"
            ],
            "application/vnd.google.colaboratory.intrinsic+json": {
              "type": "string"
            }
          },
          "metadata": {},
          "execution_count": 26
        }
      ]
    },
    {
      "cell_type": "code",
      "source": [
        "'FizzBuzz' if n % 15 == 0 else 'Fizz' if n % 3 == 0 else 'Buzz' if n % 5 == 0 else n"
      ],
      "metadata": {
        "colab": {
          "base_uri": "https://localhost:8080/",
          "height": 35
        },
        "id": "MGub-V7n_a8L",
        "outputId": "bbe0035a-faf7-4e5f-f414-55b5edf3692b"
      },
      "execution_count": null,
      "outputs": [
        {
          "output_type": "execute_result",
          "data": {
            "text/plain": [
              "'Buzz'"
            ],
            "application/vnd.google.colaboratory.intrinsic+json": {
              "type": "string"
            }
          },
          "metadata": {},
          "execution_count": 27
        }
      ]
    },
    {
      "cell_type": "code",
      "source": [
        "['FizzBuzz' if n % 15 == 0 else 'Fizz' if n % 3 == 0 else 'Buzz' if n % 5 == 0 else n for n in range(1, 21)]"
      ],
      "metadata": {
        "colab": {
          "base_uri": "https://localhost:8080/"
        },
        "id": "aroqh5II_c2B",
        "outputId": "4f7a283b-52a4-4e73-abec-edfbe9de943f"
      },
      "execution_count": null,
      "outputs": [
        {
          "output_type": "execute_result",
          "data": {
            "text/plain": [
              "[1,\n",
              " 2,\n",
              " 'Fizz',\n",
              " 4,\n",
              " 'Buzz',\n",
              " 'Fizz',\n",
              " 7,\n",
              " 8,\n",
              " 'Fizz',\n",
              " 'Buzz',\n",
              " 11,\n",
              " 'Fizz',\n",
              " 13,\n",
              " 14,\n",
              " 'FizzBuzz',\n",
              " 16,\n",
              " 17,\n",
              " 'Fizz',\n",
              " 19,\n",
              " 'Buzz']"
            ]
          },
          "metadata": {},
          "execution_count": 29
        }
      ]
    },
    {
      "cell_type": "markdown",
      "source": [
        "# Dict Comprehension\n",
        "Dict comprehension is a concise way to create dictionaries in Python. It is similar to list comprehensions but works with dictionaries. Instead of creating a dictionary through multiple lines of loops and conditional statements, dict comprehension allows you to define the same logic in a single line of code, making your code cleaner and more efficient.\n",
        "\n",
        "# Syntax\n",
        "{key_expression: value_expression for item in iterable if condition}\n",
        "\n",
        "key_expression: Expression for the key.\n",
        "\n",
        "value_expression: Expression for the value.\n",
        "\n",
        "item: Each element in the iterable.\n",
        "\n",
        "iterable: A collection (like a list or range) that you loop through.\n",
        "\n",
        "condition (optional): A filter condition."
      ],
      "metadata": {
        "id": "denpNOxbkrc1"
      }
    },
    {
      "cell_type": "markdown",
      "source": [
        "## Creating a Dictionary from a List\n",
        "\n",
        "You can create a dictionary from a list of numbers where the key is the number and the value is the square of the number."
      ],
      "metadata": {
        "id": "4GuMrw4HlQ5c"
      }
    },
    {
      "cell_type": "code",
      "source": [
        "numbers = [1, 2, 3, 4, 5]\n",
        "squares = {num: num ** 2 for num in numbers}\n",
        "print(squares)"
      ],
      "metadata": {
        "colab": {
          "base_uri": "https://localhost:8080/"
        },
        "id": "7aQdUjKI_iTC",
        "outputId": "53a6b5ea-33d2-49a9-8a9a-913b91e9df07"
      },
      "execution_count": null,
      "outputs": [
        {
          "output_type": "stream",
          "name": "stdout",
          "text": [
            "{1: 1, 2: 4, 3: 9, 4: 16, 5: 25}\n"
          ]
        }
      ]
    },
    {
      "cell_type": "markdown",
      "source": [
        "## Filtering Items\n",
        "\n",
        "You can also filter items while creating a dictionary. For example, if you want only even numbers and their squares in the dictionary:"
      ],
      "metadata": {
        "id": "DEGs21qTlTRL"
      }
    },
    {
      "cell_type": "code",
      "source": [
        "even_squares = {num: num ** 2 for num in numbers if num % 2 == 0}\n",
        "print(even_squares)"
      ],
      "metadata": {
        "colab": {
          "base_uri": "https://localhost:8080/"
        },
        "id": "ffmhpq26k1nu",
        "outputId": "1d5e58b3-d105-4523-a624-ae7ab633e536"
      },
      "execution_count": null,
      "outputs": [
        {
          "output_type": "stream",
          "name": "stdout",
          "text": [
            "{2: 4, 4: 16}\n"
          ]
        }
      ]
    },
    {
      "cell_type": "code",
      "source": [
        "{i:i*2 for i in range(1,21) if i%2==0}"
      ],
      "metadata": {
        "colab": {
          "base_uri": "https://localhost:8080/"
        },
        "id": "zqa7xsLGlZtj",
        "outputId": "3253cdc8-6d00-4c35-8b66-5a31e62c648e"
      },
      "execution_count": null,
      "outputs": [
        {
          "output_type": "execute_result",
          "data": {
            "text/plain": [
              "{2: 4, 4: 8, 6: 12, 8: 16, 10: 20, 12: 24, 14: 28, 16: 32, 18: 36, 20: 40}"
            ]
          },
          "metadata": {},
          "execution_count": 6
        }
      ]
    },
    {
      "cell_type": "markdown",
      "source": [
        "# Set Comprehension\n",
        "Set comprehension in Python is a concise way to create sets using a single line of code. Similar to list and dict comprehensions, set comprehension allows you to generate sets from an iterable while applying transformations or filtering conditions.\n",
        "\n",
        "\n",
        "\n",
        "## Syntax\n",
        "\n",
        "The syntax for set comprehension is:\n",
        "\n",
        "{expression for item in iterable if condition}\n"
      ],
      "metadata": {
        "id": "GN5x_wI-mrpp"
      }
    },
    {
      "cell_type": "code",
      "source": [
        "even_numbers = {num for num in numbers if num % 2 == 0}\n",
        "print(even_numbers)"
      ],
      "metadata": {
        "colab": {
          "base_uri": "https://localhost:8080/"
        },
        "id": "K0gfv1N3l-32",
        "outputId": "6f4f1e6b-e5bf-45f7-dd85-f744b936187b"
      },
      "execution_count": null,
      "outputs": [
        {
          "output_type": "stream",
          "name": "stdout",
          "text": [
            "{2, 4}\n"
          ]
        }
      ]
    },
    {
      "cell_type": "markdown",
      "source": [
        "# Base Conversion\n",
        "Base Conversion in Python\n",
        "In Python, base conversion refers to the process of converting numbers from one base (like binary, decimal, or hexadecimal) to another. Python provides built-in functions to handle these conversions easily.\n",
        "\n",
        "\n",
        "\n",
        "## Common Number Systems\n",
        "Decimal (Base 10): The standard number system we use in everyday life, using digits from 0 to 9.\n",
        "\n",
        "Binary (Base 2): Used in computer systems, consisting of only 0s and 1s.\n",
        "\n",
        "Octal (Base 8): Less commonly used, but includes digits from 0 to 7.\n",
        "\n",
        "Hexadecimal (Base 16): Commonly used in programming, with digits from 0-9 and letters A-F representing values from 10 to 15.\n",
        "\n",
        "\n",
        "\n",
        "## Converting from Decimal to Other Bases\n",
        "To convert from decimal to other bases, Python provides functions like:\n",
        "\n",
        "bin(): Converts a decimal number to binary (base 2).\n",
        "\n",
        "oct(): Converts a decimal number to octal (base 8).\n",
        "\n",
        "hex(): Converts a decimal number to hexadecimal (base 16).\n",
        "\n"
      ],
      "metadata": {
        "id": "LLpMb1XzqgLQ"
      }
    },
    {
      "cell_type": "code",
      "source": [
        "num = 25\n",
        "\n",
        "# Convert to binary\n",
        "print(bin(num))  # Output: 0b11001\n",
        "\n",
        "# Convert to octal\n",
        "print(oct(num))  # Output: 0o31\n",
        "\n",
        "# Convert to hexadecimal\n",
        "print(hex(num))  # Output: 0x19\n",
        "\n",
        "#The prefixes 0b, 0o, and 0x indicate binary, octal, and hexadecimal numbers respectively."
      ],
      "metadata": {
        "colab": {
          "base_uri": "https://localhost:8080/"
        },
        "id": "GYCBNWtDm5TH",
        "outputId": "09f528e6-6199-4ee4-d4c5-97814ea7364e"
      },
      "execution_count": null,
      "outputs": [
        {
          "output_type": "stream",
          "name": "stdout",
          "text": [
            "0b11001\n",
            "0o31\n",
            "0x19\n"
          ]
        }
      ]
    },
    {
      "cell_type": "code",
      "source": [
        "binary_str = \"11001\"\n",
        "octal_str = \"31\"\n",
        "hex_str = \"19\"\n",
        "\n",
        "# Convert from binary, octal, and hexadecimal to decimal\n",
        "print(int(binary_str, 2))  # Output: 25\n",
        "print(int(octal_str, 8))   # Output: 25\n",
        "print(int(hex_str, 16))    # Output: 25"
      ],
      "metadata": {
        "colab": {
          "base_uri": "https://localhost:8080/"
        },
        "id": "mUNxbfeYq0WH",
        "outputId": "268aec2d-c5d4-485f-bf09-133f0446e12f"
      },
      "execution_count": null,
      "outputs": [
        {
          "output_type": "stream",
          "name": "stdout",
          "text": [
            "25\n",
            "25\n",
            "25\n"
          ]
        }
      ]
    },
    {
      "cell_type": "markdown",
      "source": [
        "# 7-3-2025"
      ],
      "metadata": {
        "id": "amcoB7AonDFF"
      }
    },
    {
      "cell_type": "code",
      "source": [
        "def imute(x):\n",
        "  x+=1\n",
        "\n",
        "\n",
        "a=1\n",
        "imute(a)\n",
        "print(a)"
      ],
      "metadata": {
        "colab": {
          "base_uri": "https://localhost:8080/"
        },
        "id": "OqM3ytNNOXcN",
        "outputId": "447c31a0-923f-4005-9908-a2916f4a60ff"
      },
      "execution_count": null,
      "outputs": [
        {
          "output_type": "stream",
          "name": "stdout",
          "text": [
            "1\n"
          ]
        }
      ]
    },
    {
      "cell_type": "markdown",
      "source": [
        "**Recursion** - Factorial function"
      ],
      "metadata": {
        "id": "YmAIKlPFKxia"
      }
    },
    {
      "cell_type": "code",
      "source": [
        "def fact(n): # 5..4..3..2..1\n",
        "  print(f'input {n}')\n",
        "  if n <= 1:\n",
        "    return 1\n",
        "  return fact(n-1)*n #5..4..3..2..1  -> (f(4)*5) * (f(3)*4) * (f(2)*3) * (f(1) * 2) --> {(f(1) * 2) will return 1}\n",
        "                                                                       # (1 * 2)\n",
        "                                        # (24 * 5) * (9 * 4) * (3 * 3) * (1 * 2) = 120"
      ],
      "metadata": {
        "id": "ygO7Krdlnjln"
      },
      "execution_count": null,
      "outputs": []
    },
    {
      "cell_type": "code",
      "source": [
        "fact(5)"
      ],
      "metadata": {
        "colab": {
          "base_uri": "https://localhost:8080/"
        },
        "id": "3vGURl_7mW8P",
        "outputId": "f6fced1a-c5fb-4012-937b-c2407564ef5c"
      },
      "execution_count": null,
      "outputs": [
        {
          "output_type": "stream",
          "name": "stdout",
          "text": [
            "input 5\n",
            "input 4\n",
            "input 3\n",
            "input 2\n",
            "input 1\n"
          ]
        },
        {
          "output_type": "execute_result",
          "data": {
            "text/plain": [
              "120"
            ]
          },
          "metadata": {},
          "execution_count": 29
        }
      ]
    },
    {
      "cell_type": "markdown",
      "source": [
        "# Explaination:\n",
        "\n",
        "If you call fact(5), it will calculate as follows:\n",
        "\n",
        "fact(5) is called.\n",
        "\n",
        "Since 5 is greater than 1, it goes to the recursive step.\n",
        "\n",
        "fact(4) is called (recursively).\n",
        "\n",
        "... (similar recursive calls for fact(3), fact(2))\n",
        "\n",
        "fact(1) is called. This hits the base case and returns 1.\n",
        "\n",
        "The values are then calculated backwards:\n",
        "\n",
        "fact(2) returns fact(1) * 2 which is 1 * 2 = 2\n",
        "\n",
        "fact(3) returns fact(2) * 3 which is 2 * 3 = 6\n",
        "\n",
        "fact(4) returns fact(3) * 4 which is 6 * 4 = 24\n",
        "\n",
        "fact(5) returns fact(4) * 5 which is 24 * 5 = 120\n",
        "\n",
        "Therefore, fact(5) would eventually return 120."
      ],
      "metadata": {
        "id": "lHr4hvABvP9a"
      }
    },
    {
      "cell_type": "markdown",
      "source": [
        "**iteration** - Factorial function"
      ],
      "metadata": {
        "id": "Z-CYom0SMxsP"
      }
    },
    {
      "cell_type": "code",
      "source": [
        "def fact_iteration(n):\n",
        "  result  = 1\n",
        "  while n>=1:\n",
        "    result = result * n\n",
        "    n -= 1\n",
        "  return result"
      ],
      "metadata": {
        "id": "h-dDQ9PCMwzj"
      },
      "execution_count": null,
      "outputs": []
    },
    {
      "cell_type": "code",
      "source": [
        "fact_iteration(5)"
      ],
      "metadata": {
        "id": "C84H-kNEMwwv",
        "outputId": "09bab698-8f88-4892-b68c-b5d614098128",
        "colab": {
          "base_uri": "https://localhost:8080/"
        }
      },
      "execution_count": null,
      "outputs": [
        {
          "output_type": "execute_result",
          "data": {
            "text/plain": [
              "120"
            ]
          },
          "metadata": {},
          "execution_count": 21
        }
      ]
    },
    {
      "cell_type": "markdown",
      "source": [
        "If you call fact_iteration(5), it will calculate the factorial of 5 (5!) as follows:\n",
        "\n",
        "result starts at 1.\n",
        "\n",
        "In the loop:\n",
        "    # result becomes 1 * 5 = 5\n",
        "    # n becomes 4\n",
        "\n",
        "Next iteration:\n",
        "    # result becomes 5 * 4 = 20\n",
        "    # n becomes 3\n",
        "\n",
        "Next iteration:\n",
        "    # result becomes 20 * 3 = 60\n",
        "    # n becomes 2\n",
        "\n",
        "Next iteration:\n",
        "      result becomes 60 * 2 = 120\n",
        "      n becomes 1\n",
        "\n",
        "Loop ends because n is now 1.\n",
        "The function returns the final value of result, which is 120."
      ],
      "metadata": {
        "id": "lbK2_JdVRt7w"
      }
    },
    {
      "cell_type": "markdown",
      "source": [
        "## Problem: Count how many times a number appears in a list"
      ],
      "metadata": {
        "id": "UQd_I5Q-JwgZ"
      }
    },
    {
      "cell_type": "code",
      "source": [
        "def count(number: list[int], target: int) -> int:\n",
        "  count = 0\n",
        "  for i in number:\n",
        "    if i == target:\n",
        "      count += 1\n",
        "  return count"
      ],
      "metadata": {
        "id": "AhJZKiiYMwq4"
      },
      "execution_count": null,
      "outputs": []
    },
    {
      "cell_type": "code",
      "source": [
        "a = [x for x in range(1,20)]\n",
        "a.append(5)\n",
        "a"
      ],
      "metadata": {
        "id": "GZmxsKnsMwoZ",
        "outputId": "3753e111-cce1-4623-f46c-f804b0a83877",
        "colab": {
          "base_uri": "https://localhost:8080/"
        }
      },
      "execution_count": null,
      "outputs": [
        {
          "output_type": "execute_result",
          "data": {
            "text/plain": [
              "[1, 2, 3, 4, 5, 6, 7, 8, 9, 10, 11, 12, 13, 14, 15, 16, 17, 18, 19, 5]"
            ]
          },
          "metadata": {},
          "execution_count": 13
        }
      ]
    },
    {
      "cell_type": "code",
      "source": [
        "count(a, 5)"
      ],
      "metadata": {
        "id": "5gHHHd6AMwk4",
        "outputId": "dd63f1df-c867-4ae9-92df-96fd991f6cc6",
        "colab": {
          "base_uri": "https://localhost:8080/"
        }
      },
      "execution_count": null,
      "outputs": [
        {
          "output_type": "execute_result",
          "data": {
            "text/plain": [
              "2"
            ]
          },
          "metadata": {},
          "execution_count": 15
        }
      ]
    },
    {
      "cell_type": "code",
      "source": [
        "ef"
      ],
      "metadata": {
        "id": "gm5_XZ8SMwij"
      },
      "execution_count": null,
      "outputs": []
    },
    {
      "cell_type": "code",
      "source": [],
      "metadata": {
        "id": "L33hh99uMwcz"
      },
      "execution_count": null,
      "outputs": []
    },
    {
      "cell_type": "code",
      "source": [],
      "metadata": {
        "id": "P9bE_ifWMwaV"
      },
      "execution_count": null,
      "outputs": []
    },
    {
      "cell_type": "code",
      "source": [],
      "metadata": {
        "id": "V4aXEVtkMwX_"
      },
      "execution_count": null,
      "outputs": []
    },
    {
      "cell_type": "code",
      "source": [],
      "metadata": {
        "id": "4YTDNpyfMwVp"
      },
      "execution_count": null,
      "outputs": []
    },
    {
      "cell_type": "code",
      "source": [],
      "metadata": {
        "id": "lApXqrhcMwKh"
      },
      "execution_count": null,
      "outputs": []
    },
    {
      "cell_type": "code",
      "source": [
        "%pip install nltk"
      ],
      "metadata": {
        "colab": {
          "base_uri": "https://localhost:8080/"
        },
        "id": "xs8GLS23qVs6",
        "outputId": "e48108be-e392-441d-a5aa-56efb3db9481"
      },
      "execution_count": null,
      "outputs": [
        {
          "output_type": "stream",
          "name": "stdout",
          "text": [
            "Requirement already satisfied: nltk in /usr/local/lib/python3.11/dist-packages (3.9.1)\n",
            "Requirement already satisfied: click in /usr/local/lib/python3.11/dist-packages (from nltk) (8.1.8)\n",
            "Requirement already satisfied: joblib in /usr/local/lib/python3.11/dist-packages (from nltk) (1.4.2)\n",
            "Requirement already satisfied: regex>=2021.8.3 in /usr/local/lib/python3.11/dist-packages (from nltk) (2024.11.6)\n",
            "Requirement already satisfied: tqdm in /usr/local/lib/python3.11/dist-packages (from nltk) (4.67.1)\n"
          ]
        }
      ]
    },
    {
      "cell_type": "code",
      "source": [
        "import nltk\n",
        "nltk.download('vader_lexicon')"
      ],
      "metadata": {
        "colab": {
          "base_uri": "https://localhost:8080/"
        },
        "id": "Bv1563Feqq7C",
        "outputId": "2008e5da-3a41-47b4-cc52-436c10dc949e"
      },
      "execution_count": null,
      "outputs": [
        {
          "output_type": "stream",
          "name": "stderr",
          "text": [
            "[nltk_data] Downloading package vader_lexicon to /root/nltk_data...\n"
          ]
        },
        {
          "output_type": "execute_result",
          "data": {
            "text/plain": [
              "True"
            ]
          },
          "metadata": {},
          "execution_count": 32
        }
      ]
    },
    {
      "cell_type": "code",
      "source": [
        "# Classic examples of AI and ML\n",
        "# Here are a few classic examples of projects in the fields of AI and ML, along with simplified source code snippets. Let us dive in:\n",
        "#\tSentiment analysis: Sentiment analysis is the process of determining the sentiment or emotion behind a given text. Here is a simple example using Python and the Natural Language Toolkit (NLTK) library:\n",
        "from nltk.sentiment import SentimentIntensityAnalyzer\n",
        "\n",
        "def analyze_sentiment(text):\n",
        "    analyzer = SentimentIntensityAnalyzer()\n",
        "    sentiment_scores = analyzer.polarity_scores(text)\n",
        "    sentiment = sentiment_scores['compound']\n",
        "\n",
        "    if sentiment >= 0.05:\n",
        "        return 'Positive'\n",
        "    elif sentiment <= -0.05:\n",
        "          return 'Negative'\n",
        "    else:\n",
        "        return 'Neutral'\n",
        "\n",
        "# Example usage\n",
        "text = \"I love this movie! but it can much better will give 6 out 10 rating\"\n",
        "sentiment = analyze_sentiment(text)\n",
        "print(sentiment)"
      ],
      "metadata": {
        "colab": {
          "base_uri": "https://localhost:8080/"
        },
        "id": "Av0T8R5XuLvg",
        "outputId": "2eaef5d9-ac3b-42bf-b192-3d2ca5ba816a"
      },
      "execution_count": null,
      "outputs": [
        {
          "output_type": "stream",
          "name": "stdout",
          "text": [
            "Positive\n"
          ]
        }
      ]
    },
    {
      "cell_type": "code",
      "source": [],
      "metadata": {
        "id": "ebx0dyeAqSLL"
      },
      "execution_count": null,
      "outputs": []
    }
  ]
}