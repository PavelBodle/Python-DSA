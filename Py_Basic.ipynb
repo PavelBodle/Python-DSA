{
  "nbformat": 4,
  "nbformat_minor": 0,
  "metadata": {
    "colab": {
      "provenance": [],
      "authorship_tag": "ABX9TyOdAoHsVGc+DNHU+EAlVT1X",
      "include_colab_link": true
    },
    "kernelspec": {
      "name": "python3",
      "display_name": "Python 3"
    },
    "language_info": {
      "name": "python"
    }
  },
  "cells": [
    {
      "cell_type": "markdown",
      "metadata": {
        "id": "view-in-github",
        "colab_type": "text"
      },
      "source": [
        "<a href=\"https://colab.research.google.com/github/PavelBodle/Python-DSA/blob/main/Py_Basic.ipynb\" target=\"_parent\"><img src=\"https://colab.research.google.com/assets/colab-badge.svg\" alt=\"Open In Colab\"/></a>"
      ]
    },
    {
      "cell_type": "markdown",
      "source": [
        "# Operators in Python\n",
        "\n",
        "- **Arithmetic**: `+`, `-`, `*`, `/`, `%`, `**`, `//`\n",
        "- **Comparison**: `==`, `!=`, `>`, `<`, `>=`, `<=`\n",
        "- **Logical**: `and`, `or`, `not`\n",
        "- **Bitwise**: `&`, `|`, `^`, `~`, `<<`, `>>`\n",
        "- **Assignment**: `=`, `+=`, `-=`, `*=`, `/=`, `%=`, `**=`, `//=`\n",
        "- **Identity**: `is`, `is not`\n",
        "- **Membership**: `in`, `not in`"
      ],
      "metadata": {
        "id": "JdlH09-EmOEM"
      }
    },
    {
      "cell_type": "code",
      "source": [],
      "metadata": {
        "id": "LLTejZW9lzAr"
      },
      "execution_count": null,
      "outputs": []
    }
  ]
}