{
  "nbformat": 4,
  "nbformat_minor": 0,
  "metadata": {
    "colab": {
      "provenance": [],
      "authorship_tag": "ABX9TyMmp0QmUXyBD+TZY5T61W6w",
      "include_colab_link": true
    },
    "kernelspec": {
      "name": "python3",
      "display_name": "Python 3"
    },
    "language_info": {
      "name": "python"
    }
  },
  "cells": [
    {
      "cell_type": "markdown",
      "metadata": {
        "id": "view-in-github",
        "colab_type": "text"
      },
      "source": [
        "<a href=\"https://colab.research.google.com/github/PavelBodle/Python-DSA/blob/main/Searching_Sorting_Algo.ipynb\" target=\"_parent\"><img src=\"https://colab.research.google.com/assets/colab-badge.svg\" alt=\"Open In Colab\"/></a>"
      ]
    },
    {
      "cell_type": "code",
      "execution_count": null,
      "metadata": {
        "id": "6dT6ruXIw2JA"
      },
      "outputs": [],
      "source": [
        "\n",
        "# Linear Searching\n",
        "# Binary\n",
        "\n",
        "# Sleep Sort\n",
        "# Monkey Sort\n",
        "# Bubble Sort\n",
        "# Selection\n",
        "# Merge Sort\n",
        "# Quick Sort\n",
        "# Insertion Sort"
      ]
    },
    {
      "cell_type": "markdown",
      "source": [
        "\n",
        "# Linear Search - Brute Force\n",
        "Time Complexity is O(N)"
      ],
      "metadata": {
        "id": "Xyi_bZVkyQMy"
      }
    },
    {
      "cell_type": "code",
      "source": [
        "def linear_search(arr, item):\n",
        "    for index in range(len(arr)):  # Loop through indices {for i in arr: → i is the value, not an index.}\n",
        "        if arr[index] == item:\n",
        "            return index  # Return index instead of arr[i] {Using arr[i] mistakenly treats values as indices.}\n",
        "    return -1  # Return -1 if item is not found\n",
        "\n",
        "\"\"\"\n",
        "arr = [10, 20, 30, 40, 50, 66]\n",
        "item = 66\n",
        "\n",
        "for i in arr:  # i takes values: 10, 20, 30, 40, 50, 66\n",
        "    if i == item:\n",
        "        print(arr[i])  # ❌ arr[66] → IndexError\n",
        "\"\"\""
      ],
      "metadata": {
        "colab": {
          "base_uri": "https://localhost:8080/",
          "height": 53
        },
        "id": "3THX9bTUyNFB",
        "outputId": "2c3d7a96-060d-4185-aa9c-08029a31c1c3"
      },
      "execution_count": null,
      "outputs": [
        {
          "output_type": "execute_result",
          "data": {
            "text/plain": [
              "'\\narr = [10, 20, 30, 40, 50, 66]\\nitem = 66\\n\\nfor i in arr:  # i takes values: 10, 20, 30, 40, 50, 66\\n    if i == item:\\n        print(arr[i])  # ❌ arr[66] → IndexError\\n'"
            ],
            "application/vnd.google.colaboratory.intrinsic+json": {
              "type": "string"
            }
          },
          "metadata": {},
          "execution_count": 27
        }
      ]
    },
    {
      "cell_type": "code",
      "source": [
        "import random\n",
        "a = [random.randint(0,100) for i in range(10)]\n",
        "a"
      ],
      "metadata": {
        "colab": {
          "base_uri": "https://localhost:8080/"
        },
        "id": "tkvFrQcb02_6",
        "outputId": "5fb300e8-46bf-46d4-e427-1e116108dbdc"
      },
      "execution_count": null,
      "outputs": [
        {
          "output_type": "execute_result",
          "data": {
            "text/plain": [
              "[47, 59, 73, 4, 40, 80, 68, 93, 16, 29]"
            ]
          },
          "metadata": {},
          "execution_count": 25
        }
      ]
    },
    {
      "cell_type": "code",
      "source": [
        "ls = linear_search(a, 4)\n",
        "ls"
      ],
      "metadata": {
        "colab": {
          "base_uri": "https://localhost:8080/"
        },
        "id": "U159ZIVU4RaQ",
        "outputId": "393e20e3-581a-4006-b8c8-820df26ec64c"
      },
      "execution_count": null,
      "outputs": [
        {
          "output_type": "execute_result",
          "data": {
            "text/plain": [
              "3"
            ]
          },
          "metadata": {},
          "execution_count": 26
        }
      ]
    },
    {
      "cell_type": "code",
      "source": [],
      "metadata": {
        "id": "BsO6r-8F22ZR"
      },
      "execution_count": null,
      "outputs": []
    },
    {
      "cell_type": "code",
      "source": [],
      "metadata": {
        "id": "FSJJZqBw2Peb"
      },
      "execution_count": null,
      "outputs": []
    },
    {
      "cell_type": "code",
      "source": [],
      "metadata": {
        "id": "x6_mni5s2PS0"
      },
      "execution_count": null,
      "outputs": []
    },
    {
      "cell_type": "code",
      "source": [
        "def binary_search(arr, low, high, item):\n",
        "\n",
        "  if low <= high:\n",
        "    #search\n",
        "    mid = (low+high)//2\n",
        "    print(f'low: {low}, mid: {mid}, high: {high}')\n",
        "\n",
        "    if arr[mid] == item:\n",
        "      return mid\n",
        "    elif arr[mid] > item:\n",
        "      return binary_search(arr, low, mid-1, item)\n",
        "\n",
        "    else:\n",
        "      return binary_search(arr, mid+1, high, item)\n",
        "\n",
        "  else:\n",
        "    return -1\n",
        "\n"
      ],
      "metadata": {
        "id": "NLGWclZR2PQB"
      },
      "execution_count": 6,
      "outputs": []
    },
    {
      "cell_type": "code",
      "source": [
        "a = [1,2,4,5,6,7,8,19]\n",
        "binary_search(a, 0, len(a)-1, 1)"
      ],
      "metadata": {
        "colab": {
          "base_uri": "https://localhost:8080/"
        },
        "id": "iaKu0lvJ5UvG",
        "outputId": "97a115b3-6efa-4d52-fe65-0aac289e7c3f"
      },
      "execution_count": 10,
      "outputs": [
        {
          "output_type": "stream",
          "name": "stdout",
          "text": [
            "low: 0, mid: 3, high: 7\n",
            "low: 0, mid: 1, high: 2\n",
            "low: 0, mid: 0, high: 0\n"
          ]
        },
        {
          "output_type": "execute_result",
          "data": {
            "text/plain": [
              "0"
            ]
          },
          "metadata": {},
          "execution_count": 10
        }
      ]
    },
    {
      "cell_type": "code",
      "source": [
        "def binary_search(arr, item):\n",
        "  low = 0\n",
        "  high = len(arr)-1\n",
        "\n",
        "  while low <= high:\n",
        "    mid = (low+high)//2\n",
        "    print(f'low: {low}, mid: {mid}, high: {high}')\n",
        "    if arr[mid] == item:\n",
        "      return mid\n",
        "    elif arr[mid] > item:\n",
        "      high = mid-1\n",
        "    else:\n",
        "      low = mid+1\n",
        "  return -1"
      ],
      "metadata": {
        "id": "Zf9LMAnN5_7c"
      },
      "execution_count": 11,
      "outputs": []
    },
    {
      "cell_type": "code",
      "source": [
        "a = [1,2,4,5,6,7,8,19]\n",
        "binary_search(a, 88)"
      ],
      "metadata": {
        "colab": {
          "base_uri": "https://localhost:8080/"
        },
        "id": "x75JdoNZ-RH0",
        "outputId": "e43ba7f0-b034-4a96-e6bb-16600bb9e40a"
      },
      "execution_count": 16,
      "outputs": [
        {
          "output_type": "stream",
          "name": "stdout",
          "text": [
            "low: 0, mid: 3, high: 7\n",
            "low: 4, mid: 5, high: 7\n",
            "low: 6, mid: 6, high: 7\n",
            "low: 7, mid: 7, high: 7\n"
          ]
        },
        {
          "output_type": "execute_result",
          "data": {
            "text/plain": [
              "-1"
            ]
          },
          "metadata": {},
          "execution_count": 16
        }
      ]
    },
    {
      "cell_type": "code",
      "source": [],
      "metadata": {
        "id": "dq0gBQsqAcGs"
      },
      "execution_count": null,
      "outputs": []
    },
    {
      "cell_type": "code",
      "source": [],
      "metadata": {
        "id": "6yqPNcQ3Af0v"
      },
      "execution_count": null,
      "outputs": []
    },
    {
      "cell_type": "code",
      "source": [],
      "metadata": {
        "id": "ww43umF_AgCi"
      },
      "execution_count": 25,
      "outputs": []
    },
    {
      "cell_type": "code",
      "source": [],
      "metadata": {
        "id": "9Si4b4ru-S6Z"
      },
      "execution_count": 27,
      "outputs": []
    },
    {
      "cell_type": "code",
      "source": [],
      "metadata": {
        "id": "YQqDGlJ-A8KB"
      },
      "execution_count": null,
      "outputs": []
    }
  ]
}