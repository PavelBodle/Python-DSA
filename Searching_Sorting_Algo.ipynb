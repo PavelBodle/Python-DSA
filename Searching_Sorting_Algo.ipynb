{
  "nbformat": 4,
  "nbformat_minor": 0,
  "metadata": {
    "colab": {
      "provenance": [],
      "authorship_tag": "ABX9TyMTxZ/qyffBnn+Y2e7iBOjz",
      "include_colab_link": true
    },
    "kernelspec": {
      "name": "python3",
      "display_name": "Python 3"
    },
    "language_info": {
      "name": "python"
    }
  },
  "cells": [
    {
      "cell_type": "markdown",
      "metadata": {
        "id": "view-in-github",
        "colab_type": "text"
      },
      "source": [
        "<a href=\"https://colab.research.google.com/github/PavelBodle/Python-DSA/blob/main/Searching_Sorting_Algo.ipynb\" target=\"_parent\"><img src=\"https://colab.research.google.com/assets/colab-badge.svg\" alt=\"Open In Colab\"/></a>"
      ]
    },
    {
      "cell_type": "code",
      "execution_count": 1,
      "metadata": {
        "id": "6dT6ruXIw2JA"
      },
      "outputs": [],
      "source": [
        "\n",
        "# Linear Searching\n",
        "# Binary\n",
        "\n",
        "# Sleep Sort\n",
        "# Monkey Sort\n",
        "# Bubble Sort\n",
        "# Selection\n",
        "# Merge Sort\n",
        "# Quick Sort\n",
        "# Insertion Sort"
      ]
    },
    {
      "cell_type": "markdown",
      "source": [
        "\n",
        "# Linear Search - Brute Force\n",
        "Time Complexity is O(N)"
      ],
      "metadata": {
        "id": "Xyi_bZVkyQMy"
      }
    },
    {
      "cell_type": "code",
      "source": [
        "def linear_search(arr, item):\n",
        "    for index in range(len(arr)):  # Loop through indices {for i in arr: → i is the value, not an index.}\n",
        "        if arr[index] == item:\n",
        "            return index  # Return index instead of arr[i] {Using arr[i] mistakenly treats values as indices.}\n",
        "    return -1  # Return -1 if item is not found\n",
        "\n",
        "\"\"\"\n",
        "arr = [10, 20, 30, 40, 50, 66]\n",
        "item = 66\n",
        "\n",
        "for i in arr:  # i takes values: 10, 20, 30, 40, 50, 66\n",
        "    if i == item:\n",
        "        print(arr[i])  # ❌ arr[66] → IndexError\n",
        "\"\"\""
      ],
      "metadata": {
        "colab": {
          "base_uri": "https://localhost:8080/",
          "height": 53
        },
        "id": "3THX9bTUyNFB",
        "outputId": "2c3d7a96-060d-4185-aa9c-08029a31c1c3"
      },
      "execution_count": 27,
      "outputs": [
        {
          "output_type": "execute_result",
          "data": {
            "text/plain": [
              "'\\narr = [10, 20, 30, 40, 50, 66]\\nitem = 66\\n\\nfor i in arr:  # i takes values: 10, 20, 30, 40, 50, 66\\n    if i == item:\\n        print(arr[i])  # ❌ arr[66] → IndexError\\n'"
            ],
            "application/vnd.google.colaboratory.intrinsic+json": {
              "type": "string"
            }
          },
          "metadata": {},
          "execution_count": 27
        }
      ]
    },
    {
      "cell_type": "code",
      "source": [
        "import random\n",
        "a = [random.randint(0,100) for i in range(10)]\n",
        "a"
      ],
      "metadata": {
        "colab": {
          "base_uri": "https://localhost:8080/"
        },
        "id": "tkvFrQcb02_6",
        "outputId": "5fb300e8-46bf-46d4-e427-1e116108dbdc"
      },
      "execution_count": 25,
      "outputs": [
        {
          "output_type": "execute_result",
          "data": {
            "text/plain": [
              "[47, 59, 73, 4, 40, 80, 68, 93, 16, 29]"
            ]
          },
          "metadata": {},
          "execution_count": 25
        }
      ]
    },
    {
      "cell_type": "code",
      "source": [
        "ls = linear_search(a, 4)\n",
        "ls"
      ],
      "metadata": {
        "colab": {
          "base_uri": "https://localhost:8080/"
        },
        "id": "U159ZIVU4RaQ",
        "outputId": "393e20e3-581a-4006-b8c8-820df26ec64c"
      },
      "execution_count": 26,
      "outputs": [
        {
          "output_type": "execute_result",
          "data": {
            "text/plain": [
              "3"
            ]
          },
          "metadata": {},
          "execution_count": 26
        }
      ]
    },
    {
      "cell_type": "code",
      "source": [],
      "metadata": {
        "id": "BsO6r-8F22ZR"
      },
      "execution_count": null,
      "outputs": []
    }
  ]
}