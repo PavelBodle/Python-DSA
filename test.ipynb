{
  "cells": [
    {
      "cell_type": "markdown",
      "metadata": {
        "id": "view-in-github",
        "colab_type": "text"
      },
      "source": [
        "<a href=\"https://colab.research.google.com/github/PavelBodle/Python-DSA/blob/main/test.ipynb\" target=\"_parent\"><img src=\"https://colab.research.google.com/assets/colab-badge.svg\" alt=\"Open In Colab\"/></a>"
      ]
    },
    {
      "cell_type": "markdown",
      "metadata": {
        "id": "vSla1ZyHTbT_"
      },
      "source": [
        "# Lists\n",
        "--Pavel Bodle\n",
        "\n",
        "List is a collection data type which is ordered and mutable. Unlike Sets, Lists allow duplicate elements.\n",
        "They are useful for preserving a sequence of data and further iterating over it. Lists are created with square brackets.\n",
        "\n",
        "`my_list = [\"banana\", \"cherry\", \"apple\"]`\n",
        "\n",
        "#### Comparison of basic built-in collection data types in Python:\n",
        "\n",
        "- List is a collection which is ordered and mutable. Allows duplicate members.\n",
        "- Tuple is a collection which is ordered and immutable. Allows duplicate members.\n",
        "- Set is a collection which is unordered and unindexed. No duplicate members.\n",
        "- Dictionary is a collection which is unordered, mutable and indexed. No duplicate members.\n",
        "- Strings are immutable sequences of Unicode code points."
      ]
    },
    {
      "cell_type": "markdown",
      "metadata": {
        "id": "hQz2MMpQTbUC"
      },
      "source": [
        "#### Creating a list\n",
        "Lists are created with square brackets or the built-in list function."
      ]
    },
    {
      "cell_type": "code",
      "execution_count": null,
      "metadata": {
        "colab": {
          "base_uri": "https://localhost:8080/"
        },
        "id": "SCe5NMkGTbUC",
        "outputId": "ddf2573a-5487-4a31-f22e-be74e6ff554d"
      },
