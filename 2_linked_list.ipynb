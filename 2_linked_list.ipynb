{
  "nbformat": 4,
  "nbformat_minor": 0,
  "metadata": {
    "colab": {
      "provenance": [],
      "toc_visible": true,
      "authorship_tag": "ABX9TyMk/k7GJPg/99PXdXPOEmL3",
      "include_colab_link": true
    },
    "kernelspec": {
      "name": "python3",
      "display_name": "Python 3"
    },
    "language_info": {
      "name": "python"
    }
  },
  "cells": [
    {
      "cell_type": "markdown",
      "metadata": {
        "id": "view-in-github",
        "colab_type": "text"
      },
      "source": [
        "<a href=\"https://colab.research.google.com/github/PavelBodle/Python-DSA/blob/main/2_linked_list.ipynb\" target=\"_parent\"><img src=\"https://colab.research.google.com/assets/colab-badge.svg\" alt=\"Open In Colab\"/></a>"
      ]
    },
    {
      "cell_type": "markdown",
      "source": [
        "Create a Single Node"
      ],
      "metadata": {
        "id": "2ncRklJYZfJZ"
      }
    },
    {
      "cell_type": "code",
      "execution_count": 2,
      "metadata": {
        "id": "3vUghh6HusrI"
      },
      "outputs": [],
      "source": [
        "class Node:\n",
        "\n",
        "  def __init__(self,value):\n",
        "    self.data = value\n",
        "    self.next = None"
      ]
    },
    {
      "cell_type": "code",
      "source": [
        "a = Node(1)\n",
        "b = Node(2)\n",
        "c = Node(3)"
      ],
      "metadata": {
        "id": "YFKGtQKeZMnm"
      },
      "execution_count": 3,
      "outputs": []
    },
    {
      "cell_type": "code",
      "source": [
        "print(a.data,b.data,c.data)"
      ],
      "metadata": {
        "colab": {
          "base_uri": "https://localhost:8080/"
        },
        "id": "NbDkcpDIZlag",
        "outputId": "7ca203e7-fe32-4dd6-cf77-7b35620ed669"
      },
      "execution_count": 4,
      "outputs": [
        {
          "output_type": "stream",
          "name": "stdout",
          "text": [
            "1 2 3\n"
          ]
        }
      ]
    },
    {
      "cell_type": "markdown",
      "source": [
        "Linked the Nodes with Each other to make Linked List"
      ],
      "metadata": {
        "id": "bbETKmDXZr8p"
      }
    },
    {
      "cell_type": "code",
      "source": [
        "a.next = b\n",
        "b.next = c"
      ],
      "metadata": {
        "id": "WKjh7rBdZpAU"
      },
      "execution_count": 5,
      "outputs": []
    },
    {
      "cell_type": "code",
      "source": [
        "print(a.next, b.next, c.next)"
      ],
      "metadata": {
        "colab": {
          "base_uri": "https://localhost:8080/"
        },
        "id": "dgOXVOCuZ0GV",
        "outputId": "d9e19987-437e-46c6-d060-5dd1840832bf"
      },
      "execution_count": 6,
      "outputs": [
        {
          "output_type": "stream",
          "name": "stdout",
          "text": [
            "<__main__.Node object at 0x79d21f6f5cd0> <__main__.Node object at 0x79d21f6f59d0> None\n"
          ]
        }
      ]
    },
    {
      "cell_type": "code",
      "source": [
        "print(int(0x79d21f6f5cd0), int(0x79d21f6f59d0))"
      ],
      "metadata": {
        "colab": {
          "base_uri": "https://localhost:8080/"
        },
        "id": "c3URDFkeZ9Sj",
        "outputId": "1de9cf54-e572-43c8-f1b3-396dd943d9dc"
      },
      "execution_count": 8,
      "outputs": [
        {
          "output_type": "stream",
          "name": "stdout",
          "text": [
            "133943377485008 133943377484240\n"
          ]
        }
      ]
    },
    {
      "cell_type": "code",
      "source": [
        "print(id(a),id(b),id(c))"
      ],
      "metadata": {
        "colab": {
          "base_uri": "https://localhost:8080/"
        },
        "id": "1UoIcW8FaCzV",
        "outputId": "60b3e570-1f96-4a92-fe9b-59aee075daae"
      },
      "execution_count": 9,
      "outputs": [
        {
          "output_type": "stream",
          "name": "stdout",
          "text": [
            "133943377484944 133943377485008 133943377484240\n"
          ]
        }
      ]
    },
    {
      "cell_type": "markdown",
      "source": [
        "Create **Linked List** from scratch."
      ],
      "metadata": {
        "id": "RHIDMHT4fNEm"
      }
    },
    {
      "cell_type": "code",
      "source": [
        "class Node:\n",
        "  def __init__(self,value):\n",
        "    self.data = value\n",
        "    self.next = None"
      ],
      "metadata": {
        "id": "d4Syu4SJaR9w"
      },
      "execution_count": 29,
      "outputs": []
    },
    {
      "cell_type": "code",
      "source": [
        "class Linkedlist:\n",
        "  def __init__(self):\n",
        "    self.head = None # Empty Linked List\n",
        "    self.n = 0  # no of nodes in the LL\n",
        "\n",
        "  def __len__(self):  #length of LL\n",
        "    return self.n\n",
        "\n",
        "  def insert_head(self, value):\n",
        "    new_node = Node(value) # new node\n",
        "    new_node.next = self.head # create connection\n",
        "    self.head = new_node # reassign head\n",
        "    self.n = self.n + 1 # increment n"
      ],
      "metadata": {
        "id": "9ujXlotwgeJc"
      },
      "execution_count": 41,
      "outputs": []
    },
    {
      "cell_type": "code",
      "source": [
        "L = Linkedlist()"
      ],
      "metadata": {
        "id": "bK_VceCvgpWs"
      },
      "execution_count": 48,
      "outputs": []
    },
    {
      "cell_type": "code",
      "source": [
        "L.insert_head(1)\n",
        "L.insert_head(10)\n",
        "L.insert_head(100)\n",
        "L.insert_head(1000)"
      ],
      "metadata": {
        "id": "20G0H8ffgyvv"
      },
      "execution_count": 50,
      "outputs": []
    },
    {
      "cell_type": "code",
      "source": [
        "len(L)"
      ],
      "metadata": {
        "colab": {
          "base_uri": "https://localhost:8080/"
        },
        "id": "u8U2Oocvgvux",
        "outputId": "410178fe-60e6-48d9-d089-f1dc262ec1df"
      },
      "execution_count": 51,
      "outputs": [
        {
          "output_type": "execute_result",
          "data": {
            "text/plain": [
              "5"
            ]
          },
          "metadata": {},
          "execution_count": 51
        }
      ]
    },
    {
      "cell_type": "code",
      "source": [],
      "metadata": {
        "id": "YWVOGc1J0GZo"
      },
      "execution_count": null,
      "outputs": []
    }
  ]
}