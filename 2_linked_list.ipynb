{
  "nbformat": 4,
  "nbformat_minor": 0,
  "metadata": {
    "colab": {
      "provenance": [],
      "toc_visible": true,
      "authorship_tag": "ABX9TyM27IVKZSzrrBtR+nDM+/gL",
      "include_colab_link": true
    },
    "kernelspec": {
      "name": "python3",
      "display_name": "Python 3"
    },
    "language_info": {
      "name": "python"
    }
  },
  "cells": [
    {
      "cell_type": "markdown",
      "metadata": {
        "id": "view-in-github",
        "colab_type": "text"
      },
      "source": [
        "<a href=\"https://colab.research.google.com/github/PavelBodle/Python-DSA/blob/main/2_linked_list.ipynb\" target=\"_parent\"><img src=\"https://colab.research.google.com/assets/colab-badge.svg\" alt=\"Open In Colab\"/></a>"
      ]
    },
    {
      "cell_type": "markdown",
      "source": [
        "Create a Single Node"
      ],
      "metadata": {
        "id": "2ncRklJYZfJZ"
      }
    },
    {
      "cell_type": "code",
      "execution_count": 2,
      "metadata": {
        "id": "3vUghh6HusrI"
      },
      "outputs": [],
      "source": [
        "class Node:\n",
        "\n",
        "  def __init__(self,value):\n",
        "    self.data = value\n",
        "    self.next = None"
      ]
    },
    {
      "cell_type": "code",
      "source": [
        "a = Node(1)\n",
        "b = Node(2)\n",
        "c = Node(3)"
      ],
      "metadata": {
        "id": "YFKGtQKeZMnm"
      },
      "execution_count": 3,
      "outputs": []
    },
    {
      "cell_type": "code",
      "source": [
        "print(a.data,b.data,c.data)"
      ],
      "metadata": {
        "colab": {
          "base_uri": "https://localhost:8080/"
        },
        "id": "NbDkcpDIZlag",
        "outputId": "7ca203e7-fe32-4dd6-cf77-7b35620ed669"
      },
      "execution_count": 4,
      "outputs": [
        {
          "output_type": "stream",
          "name": "stdout",
          "text": [
            "1 2 3\n"
          ]
        }
      ]
    },
    {
      "cell_type": "markdown",
      "source": [
        "Linked the Nodes with Each other to make Linked List"
      ],
      "metadata": {
        "id": "bbETKmDXZr8p"
      }
    },
    {
      "cell_type": "code",
      "source": [
        "a.next = b\n",
        "b.next = c"
      ],
      "metadata": {
        "id": "WKjh7rBdZpAU"
      },
      "execution_count": 5,
      "outputs": []
    },
    {
      "cell_type": "code",
      "source": [
        "print(a.next, b.next, c.next)"
      ],
      "metadata": {
        "colab": {
          "base_uri": "https://localhost:8080/"
        },
        "id": "dgOXVOCuZ0GV",
        "outputId": "d9e19987-437e-46c6-d060-5dd1840832bf"
      },
      "execution_count": 6,
      "outputs": [
        {
          "output_type": "stream",
          "name": "stdout",
          "text": [
            "<__main__.Node object at 0x79d21f6f5cd0> <__main__.Node object at 0x79d21f6f59d0> None\n"
          ]
        }
      ]
    },
    {
      "cell_type": "code",
      "source": [
        "print(int(0x79d21f6f5cd0), int(0x79d21f6f59d0))"
      ],
      "metadata": {
        "colab": {
          "base_uri": "https://localhost:8080/"
        },
        "id": "c3URDFkeZ9Sj",
        "outputId": "1de9cf54-e572-43c8-f1b3-396dd943d9dc"
      },
      "execution_count": 8,
      "outputs": [
        {
          "output_type": "stream",
          "name": "stdout",
          "text": [
            "133943377485008 133943377484240\n"
          ]
        }
      ]
    },
    {
      "cell_type": "code",
      "source": [
        "print(id(a),id(b),id(c))"
      ],
      "metadata": {
        "colab": {
          "base_uri": "https://localhost:8080/"
        },
        "id": "1UoIcW8FaCzV",
        "outputId": "60b3e570-1f96-4a92-fe9b-59aee075daae"
      },
      "execution_count": 9,
      "outputs": [
        {
          "output_type": "stream",
          "name": "stdout",
          "text": [
            "133943377484944 133943377485008 133943377484240\n"
          ]
        }
      ]
    },
    {
      "cell_type": "markdown",
      "source": [
        "Create **Linked List** from scratch."
      ],
      "metadata": {
        "id": "RHIDMHT4fNEm"
      }
    },
    {
      "cell_type": "code",
      "source": [
        "class Node:\n",
        "  def __init__(self,value):\n",
        "    self.data = value\n",
        "    self.next = None"
      ],
      "metadata": {
        "id": "d4Syu4SJaR9w"
      },
      "execution_count": 4,
      "outputs": []
    },
    {
      "cell_type": "code",
      "source": [
        "class Linkedlist:\n",
        "  def __init__(self):\n",
        "    self.head = None # Empty Linked List\n",
        "    self.n = 0  # no of nodes in the LL\n",
        "\n",
        "#length of LL ---------------------------------------------------\n",
        "  def __len__(self):\n",
        "    return self.n\n",
        "\n",
        "## add head in empty LL -----------------------------------------\n",
        "  def insert_head(self, value):\n",
        "    new_node = Node(value) # new node\n",
        "    new_node.next = self.head # create connection\n",
        "    self.head = new_node # reassign head\n",
        "    self.n = self.n + 1 # increment n\n",
        "\n",
        "## print LL ------------------------------------------------------\n",
        "  def __str__(self):\n",
        "    curr = self.head\n",
        "    result = ''\n",
        "\n",
        "    while curr != None:\n",
        "      result = result + str(curr.data) + '->'\n",
        "      curr = curr.next\n",
        "    return result[:-2]\n",
        "\n",
        "## append data in LL  (from last/tail node) -----------------------\n",
        "  def append(self,value):\n",
        "    new_node = Node(value)\n",
        "\n",
        "    if self.head == None:\n",
        "      # empty\n",
        "      self.head = new_node\n",
        "      self.n = self.n + 1\n",
        "      return\n",
        "\n",
        "    curr = self.head\n",
        "\n",
        "    while curr.next != None:\n",
        "      curr = curr.next\n",
        "\n",
        "    # you are at the last node\n",
        "    curr.next = new_node\n",
        "    self.n = self.n + 1\n",
        "\n",
        "## insert data in middle (after the node) ----------------------\n",
        "  def insert_after(self,after,value):\n",
        "    new_node = Node(value)\n",
        "    curr = self.head\n",
        "\n",
        "    while curr != None:\n",
        "      if curr.data == after:\n",
        "        break\n",
        "      curr = curr.next\n",
        "\n",
        "    # case 1 break -> item apko mil gaya -> curr = not None\n",
        "    if curr != None:\n",
        "      #logic -> new node the next = jo abhi curr.next he\n",
        "      new_node.next = curr.next\n",
        "      curr.next = new_node # curr.next will make to new node\n",
        "      self.n = self.n + 1\n",
        "\n",
        "    else:  # case 2 -> loop pura chala but item nahi meela -> curr = None\n",
        "      return 'Item not found'\n",
        "\n",
        "# clear complete LL\n",
        "  def clear(self):\n",
        "    self.head = None\n",
        "    self.n = 0\n",
        "\n",
        "  def delete_head(self):\n",
        "\n",
        "    if self.head == None:\n",
        "      # empty\n",
        "      return 'Empty LL'\n",
        "\n",
        "    self.head = self.head.next\n",
        "    self.n = self.n - 1\n",
        "\n",
        "  def pop(self):\n",
        "\n",
        "    if self.head == None:\n",
        "      # empty\n",
        "      return 'Empty LL'\n",
        "\n",
        "    curr = self.head\n",
        "\n",
        "    # kya linked list me 1 item hai?\n",
        "    if curr.next == None:\n",
        "      # head hi hoga(delete from head)\n",
        "      return self.delete_head()\n",
        "\n",
        "\n",
        "    while curr.next.next != None:\n",
        "      curr = curr.next\n",
        "\n",
        "    # curr -> 2nd last node\n",
        "    curr.next = None\n",
        "    self.n = self.n - 1\n",
        "\n",
        "  def remove(self,value):\n",
        "\n",
        "    if self.head == None:\n",
        "      return 'Empty LL'\n",
        "\n",
        "    if self.head.data == value:\n",
        "      # you want to remove the head node\n",
        "      return self.delete_head()\n",
        "\n",
        "    curr = self.head\n",
        "\n",
        "    while curr.next != None:\n",
        "      if curr.next.data == value:\n",
        "        break\n",
        "      curr = curr.next\n",
        "\n",
        "    # 2 cases item mil gaya\n",
        "    # item nai mila\n",
        "    if curr.next == None:\n",
        "      # item nai mila\n",
        "      return 'Not Found'\n",
        "    else:\n",
        "      curr.next = curr.next.next\n",
        "      self.n = self.n - 1\n",
        "\n",
        "  def search(self,item):\n",
        "\n",
        "    curr = self.head\n",
        "    pos = 0\n",
        "\n",
        "    while curr != None:\n",
        "      if curr.data == item:\n",
        "        return pos\n",
        "      curr = curr.next\n",
        "      pos = pos + 1\n",
        "\n",
        "    return 'Not Found'\n",
        "\n",
        "  def __getitem__(self,index):\n",
        "\n",
        "    curr = self.head\n",
        "    pos = 0\n",
        "\n",
        "    while curr != None:\n",
        "      if pos == index:\n",
        "        return curr.data\n",
        "      curr = curr.next\n",
        "      pos = pos + 1\n",
        "\n",
        "    return 'IndexError'"
      ],
      "metadata": {
        "id": "9ujXlotwgeJc"
      },
      "execution_count": 17,
      "outputs": []
    },
    {
      "cell_type": "code",
      "source": [
        "L = Linkedlist()"
      ],
      "metadata": {
        "id": "bK_VceCvgpWs"
      },
      "execution_count": 18,
      "outputs": []
    },
    {
      "cell_type": "code",
      "source": [
        "L.insert_head(1)\n",
        "L.insert_head(10)\n",
        "L.insert_head(100)\n",
        "L.insert_head(1000)"
      ],
      "metadata": {
        "id": "20G0H8ffgyvv"
      },
      "execution_count": 5,
      "outputs": []
    },
    {
      "cell_type": "code",
      "source": [
        "len(L)"
      ],
      "metadata": {
        "colab": {
          "base_uri": "https://localhost:8080/"
        },
        "id": "u8U2Oocvgvux",
        "outputId": "e5fb754a-ebfc-4765-ad11-c664e0479c41"
      },
      "execution_count": 6,
      "outputs": [
        {
          "output_type": "execute_result",
          "data": {
            "text/plain": [
              "4"
            ]
          },
          "metadata": {},
          "execution_count": 6
        }
      ]
    },
    {
      "cell_type": "code",
      "source": [
        "print(L)"
      ],
      "metadata": {
        "colab": {
          "base_uri": "https://localhost:8080/"
        },
        "id": "YWVOGc1J0GZo",
        "outputId": "e8cd7663-a3a1-46e4-b69d-ccfd2924070d"
      },
      "execution_count": 7,
      "outputs": [
        {
          "output_type": "stream",
          "name": "stdout",
          "text": [
            "1000->100->10->1\n"
          ]
        }
      ]
    },
    {
      "cell_type": "code",
      "source": [
        "L.clear()"
      ],
      "metadata": {
        "id": "SGN6G0bv7HKI",
        "outputId": "3f28855b-fcf9-4eb3-87b2-ecc94d9af446",
        "colab": {
          "base_uri": "https://localhost:8080/",
          "height": 36
        }
      },
      "execution_count": 15,
      "outputs": [
        {
          "output_type": "execute_result",
          "data": {
            "text/plain": [
              "'Empty Linked List'"
            ],
            "application/vnd.google.colaboratory.intrinsic+json": {
              "type": "string"
            }
          },
          "metadata": {},
          "execution_count": 15
        }
      ]
    },
    {
      "cell_type": "code",
      "source": [
        "print(L)"
      ],
      "metadata": {
        "id": "i7uM2aH3jCcz",
        "outputId": "db0e221d-7dca-4ed8-fa1d-a606d0183522",
        "colab": {
          "base_uri": "https://localhost:8080/"
        }
      },
      "execution_count": 16,
      "outputs": [
        {
          "output_type": "stream",
          "name": "stdout",
          "text": [
            "\n"
          ]
        }
      ]
    },
    {
      "cell_type": "code",
      "source": [],
      "metadata": {
        "id": "cmr_jgBsjDdV"
      },
      "execution_count": null,
      "outputs": []
    }
  ]
}