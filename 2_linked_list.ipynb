{
  "nbformat": 4,
  "nbformat_minor": 0,
  "metadata": {
    "colab": {
      "provenance": [],
      "toc_visible": true,
      "authorship_tag": "ABX9TyMPheeFfmAgC5cyw63m9S0w",
      "include_colab_link": true
    },
    "kernelspec": {
      "name": "python3",
      "display_name": "Python 3"
    },
    "language_info": {
      "name": "python"
    }
  },
  "cells": [
    {
      "cell_type": "markdown",
      "metadata": {
        "id": "view-in-github",
        "colab_type": "text"
      },
      "source": [
        "<a href=\"https://colab.research.google.com/github/PavelBodle/Python-DSA/blob/main/2_linked_list.ipynb\" target=\"_parent\"><img src=\"https://colab.research.google.com/assets/colab-badge.svg\" alt=\"Open In Colab\"/></a>"
      ]
    },
    {
      "cell_type": "markdown",
      "source": [
        "Create a Single Node"
      ],
      "metadata": {
        "id": "2ncRklJYZfJZ"
      }
    },
    {
      "cell_type": "code",
      "execution_count": 2,
      "metadata": {
        "id": "3vUghh6HusrI"
      },
      "outputs": [],
      "source": [
        "class Node:\n",
        "\n",
        "  def __init__(self,value):\n",
        "    self.data = value\n",
        "    self.next = None"
      ]
    },
    {
      "cell_type": "code",
      "source": [
        "a = Node(1)\n",
        "b = Node(2)\n",
        "c = Node(3)"
      ],
      "metadata": {
        "id": "YFKGtQKeZMnm"
      },
      "execution_count": 3,
      "outputs": []
    },
    {
      "cell_type": "code",
      "source": [
        "print(a.data,b.data,c.data)"
      ],
      "metadata": {
        "colab": {
          "base_uri": "https://localhost:8080/"
        },
        "id": "NbDkcpDIZlag",
        "outputId": "7ca203e7-fe32-4dd6-cf77-7b35620ed669"
      },
      "execution_count": 4,
      "outputs": [
        {
          "output_type": "stream",
          "name": "stdout",
          "text": [
            "1 2 3\n"
          ]
        }
      ]
    },
    {
      "cell_type": "markdown",
      "source": [
        "Linked the Nodes with Each other to make Linked List"
      ],
      "metadata": {
        "id": "bbETKmDXZr8p"
      }
    },
    {
      "cell_type": "code",
      "source": [
        "a.next = b\n",
        "b.next = c"
      ],
      "metadata": {
        "id": "WKjh7rBdZpAU"
      },
      "execution_count": 5,
      "outputs": []
    },
    {
      "cell_type": "code",
      "source": [
        "print(a.next, b.next, c.next)"
      ],
      "metadata": {
        "colab": {
          "base_uri": "https://localhost:8080/"
        },
        "id": "dgOXVOCuZ0GV",
        "outputId": "d9e19987-437e-46c6-d060-5dd1840832bf"
      },
      "execution_count": 6,
      "outputs": [
        {
          "output_type": "stream",
          "name": "stdout",
          "text": [
            "<__main__.Node object at 0x79d21f6f5cd0> <__main__.Node object at 0x79d21f6f59d0> None\n"
          ]
        }
      ]
    },
    {
      "cell_type": "code",
      "source": [
        "print(int(0x79d21f6f5cd0), int(0x79d21f6f59d0))"
      ],
      "metadata": {
        "colab": {
          "base_uri": "https://localhost:8080/"
        },
        "id": "c3URDFkeZ9Sj",
        "outputId": "1de9cf54-e572-43c8-f1b3-396dd943d9dc"
      },
      "execution_count": 8,
      "outputs": [
        {
          "output_type": "stream",
          "name": "stdout",
          "text": [
            "133943377485008 133943377484240\n"
          ]
        }
      ]
    },
    {
      "cell_type": "code",
      "source": [
        "print(id(a),id(b),id(c))"
      ],
      "metadata": {
        "colab": {
          "base_uri": "https://localhost:8080/"
        },
        "id": "1UoIcW8FaCzV",
        "outputId": "60b3e570-1f96-4a92-fe9b-59aee075daae"
      },
      "execution_count": 9,
      "outputs": [
        {
          "output_type": "stream",
          "name": "stdout",
          "text": [
            "133943377484944 133943377485008 133943377484240\n"
          ]
        }
      ]
    },
    {
      "cell_type": "markdown",
      "source": [
        "Create **Linked List** from scratch."
      ],
      "metadata": {
        "id": "RHIDMHT4fNEm"
      }
    },
    {
      "cell_type": "code",
      "source": [
        "class Node:\n",
        "\n",
        "  def __init__(self,value):\n",
        "    self.data = value\n",
        "    self.next = None"
      ],
      "metadata": {
        "id": "d4Syu4SJaR9w"
      },
      "execution_count": 10,
      "outputs": []
    },
    {
      "cell_type": "code",
      "source": [
        "class LinkedList:\n",
        "\n",
        "  def __init__(self):\n",
        "    # Empty Linked List\n",
        "    self.head = None\n",
        "    self.tail = None\n",
        "    # no of nodes in the LL\n",
        "    self.n = 0\n",
        "\n",
        "  def __len__(self):\n",
        "    return self.n"
      ],
      "metadata": {
        "id": "9ujXlotwgeJc"
      },
      "execution_count": 11,
      "outputs": []
    },
    {
      "cell_type": "code",
      "source": [
        "l = LinkedList()"
      ],
      "metadata": {
        "id": "bK_VceCvgpWs"
      },
      "execution_count": 12,
      "outputs": []
    },
    {
      "cell_type": "code",
      "source": [
        "len(l)"
      ],
      "metadata": {
        "id": "u8U2Oocvgvux",
        "outputId": "57652d95-563b-4fbb-fc13-bd5caab50964",
        "colab": {
          "base_uri": "https://localhost:8080/"
        }
      },
      "execution_count": 13,
      "outputs": [
        {
          "output_type": "execute_result",
          "data": {
            "text/plain": [
              "0"
            ]
          },
          "metadata": {},
          "execution_count": 13
        }
      ]
    },
    {
      "cell_type": "code",
      "source": [],
      "metadata": {
        "id": "20G0H8ffgyvv"
      },
      "execution_count": null,
      "outputs": []
    }
  ]
}