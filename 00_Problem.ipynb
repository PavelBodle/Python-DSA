{
  "nbformat": 4,
  "nbformat_minor": 0,
  "metadata": {
    "colab": {
      "provenance": [],
      "toc_visible": true,
      "include_colab_link": true
    },
    "kernelspec": {
      "name": "python3",
      "display_name": "Python 3"
    },
    "language_info": {
      "name": "python"
    }
  },
  "cells": [
    {
      "cell_type": "markdown",
      "metadata": {
        "id": "view-in-github",
        "colab_type": "text"
      },
      "source": [
        "<a href=\"https://colab.research.google.com/github/PavelBodle/Python-DSA/blob/main/00_Problem.ipynb\" target=\"_parent\"><img src=\"https://colab.research.google.com/assets/colab-badge.svg\" alt=\"Open In Colab\"/></a>"
      ]
    },
    {
      "cell_type": "markdown",
      "source": [
        "1. Writing a Python Program to find the Sum of First n Natural Numbers using the while Loop."
      ],
      "metadata": {
        "id": "1zky-5tP4izu"
      }
    },
    {
      "cell_type": "code",
      "execution_count": null,
      "metadata": {
        "id": "baWs3Jz-3eUQ",
        "outputId": "474579cf-1117-4ee9-b2bb-c0541f86b471",
        "colab": {
          "base_uri": "https://localhost:8080/"
        }
      },
      "outputs": [
        {
          "name": "stdout",
          "output_type": "stream",
          "text": [
            "Enter any number: 5\n"
          ]
        }
      ],
      "source": [
        "n = int(input(f\"Enter any number: \"))"
      ]
    },
    {
      "cell_type": "code",
      "source": [
        "sum=0\n",
        "\n",
        "while n > 0:\n",
        "  sum += n\n",
        "  n -= 1\n",
        "\n",
        "print(f\"Sum of n natural numbers -> {sum}\")"
      ],
      "metadata": {
        "id": "pT9f_sxz4w5U",
        "outputId": "0f185cb6-8543-485b-9107-7be5d4ce721c",
        "colab": {
          "base_uri": "https://localhost:8080/"
        }
      },
      "execution_count": null,
      "outputs": [
        {
          "output_type": "stream",
          "name": "stdout",
          "text": [
            "Sum of n natural numbers -> 15\n"
          ]
        }
      ]
    },
    {
      "cell_type": "markdown",
      "source": [
        "2. Find out sum of odd numbers in a list?"
      ],
      "metadata": {
        "id": "aTL_J3PU8FnT"
      }
    },
    {
      "cell_type": "code",
      "source": [
        "my_list = [1, 2, 3, 4, 5]\n",
        "\n",
        "odd_sum = sum([x for x in my_list if x % 2 != 0])\n",
        "\n",
        "print(odd_sum)"
      ],
      "metadata": {
        "id": "60WwnjTo708W",
        "outputId": "d0a9a105-7ac1-4228-c00d-71938b87f6d1",
        "colab": {
          "base_uri": "https://localhost:8080/"
        }
      },
      "execution_count": null,
      "outputs": [
        {
          "output_type": "stream",
          "name": "stdout",
          "text": [
            "9\n"
          ]
        }
      ]
    },
    {
      "cell_type": "code",
      "source": [
        "import keyword\n",
        "print(keyword.kwlist)"
      ],
      "metadata": {
        "id": "EfDcnp7ghDaX",
        "outputId": "bd2f21f8-2242-4c08-db31-89a85b7845f7",
        "colab": {
          "base_uri": "https://localhost:8080/"
        }
      },
      "execution_count": 1,
      "outputs": [
        {
          "output_type": "stream",
          "name": "stdout",
          "text": [
            "['False', 'None', 'True', 'and', 'as', 'assert', 'async', 'await', 'break', 'class', 'continue', 'def', 'del', 'elif', 'else', 'except', 'finally', 'for', 'from', 'global', 'if', 'import', 'in', 'is', 'lambda', 'nonlocal', 'not', 'or', 'pass', 'raise', 'return', 'try', 'while', 'with', 'yield']\n"
          ]
        }
      ]
    },
    {
      "cell_type": "code",
      "source": [],
      "metadata": {
        "id": "ad5FAMiThTsY"
      },
      "execution_count": null,
      "outputs": []
    }
  ]
}