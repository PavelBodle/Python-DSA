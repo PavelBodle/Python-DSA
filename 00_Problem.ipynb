{
  "nbformat": 4,
  "nbformat_minor": 0,
  "metadata": {
    "colab": {
      "provenance": [],
      "include_colab_link": true
    },
    "kernelspec": {
      "name": "python3",
      "display_name": "Python 3"
    },
    "language_info": {
      "name": "python"
    }
  },
  "cells": [
    {
      "cell_type": "markdown",
      "metadata": {
        "id": "view-in-github",
        "colab_type": "text"
      },
      "source": [
        "<a href=\"https://colab.research.google.com/github/PavelBodle/Python-DSA/blob/main/00_Problem.ipynb\" target=\"_parent\"><img src=\"https://colab.research.google.com/assets/colab-badge.svg\" alt=\"Open In Colab\"/></a>"
      ]
    },
    {
      "cell_type": "markdown",
      "source": [
        "#1. Writing a Python Program to find the Sum of First n Natural Numbers using the while Loop."
      ],
      "metadata": {
        "id": "1zky-5tP4izu"
      }
    },
    {
      "cell_type": "code",
      "execution_count": null,
      "metadata": {
        "id": "baWs3Jz-3eUQ",
        "outputId": "474579cf-1117-4ee9-b2bb-c0541f86b471",
        "colab": {
          "base_uri": "https://localhost:8080/"
        }
      },
      "outputs": [
        {
          "name": "stdout",
          "output_type": "stream",
          "text": [
            "Enter any number: 5\n"
          ]
        }
      ],
      "source": [
        "n = int(input(f\"Enter any number: \"))"
      ]
    },
    {
      "cell_type": "code",
      "source": [
        "sum=0\n",
        "\n",
        "while n > 0:\n",
        "  sum += n\n",
        "  n -= 1\n",
        "\n",
        "print(f\"Sum of n natural numbers -> {sum}\")"
      ],
      "metadata": {
        "id": "pT9f_sxz4w5U",
        "outputId": "0f185cb6-8543-485b-9107-7be5d4ce721c",
        "colab": {
          "base_uri": "https://localhost:8080/"
        }
      },
      "execution_count": null,
      "outputs": [
        {
          "output_type": "stream",
          "name": "stdout",
          "text": [
            "Sum of n natural numbers -> 15\n"
          ]
        }
      ]
    },
    {
      "cell_type": "markdown",
      "source": [
        "## Efficient program to find sum of first n natural numbers.\n",
        "Time Complexity: O(1)\n",
        "\n",
        "Auxiliary Space: O(1)"
      ],
      "metadata": {
        "id": "CYRubzbRSliC"
      }
    },
    {
      "cell_type": "code",
      "source": [
        "# Returns sum of first n natural numbers\n",
        "def findSum(n) :\n",
        "\treturn n * (n + 1) / 2. # formula to find n natural numbers\n",
        "\n",
        "# Driver code\n",
        "n = 7\n",
        "print (findSum(n))"
      ],
      "metadata": {
        "id": "BOjq2lcISaQp",
        "outputId": "556c73fa-572f-456e-b1a7-2cc6db767d18",
        "colab": {
          "base_uri": "https://localhost:8080/"
        }
      },
      "execution_count": 5,
      "outputs": [
        {
          "output_type": "stream",
          "name": "stdout",
          "text": [
            "28.0\n"
          ]
        }
      ]
    },
    {
      "cell_type": "code",
      "source": [
        "# Efficient Python program to find the sum of first n natural numbers that avoid\n",
        "# overflow if the result is going to be within limits.\n",
        "\n",
        "# Returns sum of first n natural\n",
        "# numbers\n",
        "def findSum(n) :\n",
        "\tif (n % 2 == 0) :\n",
        "\t\treturn (n / 2) * (n + 1)\n",
        "\n",
        "# If n is odd, (n+1) must be even\n",
        "\telse :\n",
        "\t\treturn ((n + 1) / 2) * n\n",
        "\n",
        "# Driver code\n",
        "n = 566\n",
        "print (findSum(n))"
      ],
      "metadata": {
        "id": "uMh56kk1TCSS",
        "outputId": "d1a5d45a-8b8e-47ca-dd1a-fef766b743b8",
        "colab": {
          "base_uri": "https://localhost:8080/"
        }
      },
      "execution_count": 3,
      "outputs": [
        {
          "output_type": "stream",
          "name": "stdout",
          "text": [
            "160461.0\n"
          ]
        }
      ]
    },
    {
      "cell_type": "markdown",
      "source": [
        "#2. Find out sum of odd numbers in a list?"
      ],
      "metadata": {
        "id": "aTL_J3PU8FnT"
      }
    },
    {
      "cell_type": "code",
      "source": [
        "my_list = [1, 2, 3, 4, 5]\n",
        "\n",
        "odd_sum = sum([x for x in my_list if x % 2 != 0])\n",
        "\n",
        "print(odd_sum)"
      ],
      "metadata": {
        "id": "60WwnjTo708W",
        "outputId": "d0a9a105-7ac1-4228-c00d-71938b87f6d1",
        "colab": {
          "base_uri": "https://localhost:8080/"
        }
      },
      "execution_count": null,
      "outputs": [
        {
          "output_type": "stream",
          "name": "stdout",
          "text": [
            "9\n"
          ]
        }
      ]
    },
    {
      "cell_type": "code",
      "source": [
        "import keyword\n",
        "print(keyword.kwlist)"
      ],
      "metadata": {
        "id": "EfDcnp7ghDaX",
        "outputId": "bd2f21f8-2242-4c08-db31-89a85b7845f7",
        "colab": {
          "base_uri": "https://localhost:8080/"
        }
      },
      "execution_count": null,
      "outputs": [
        {
          "output_type": "stream",
          "name": "stdout",
          "text": [
            "['False', 'None', 'True', 'and', 'as', 'assert', 'async', 'await', 'break', 'class', 'continue', 'def', 'del', 'elif', 'else', 'except', 'finally', 'for', 'from', 'global', 'if', 'import', 'in', 'is', 'lambda', 'nonlocal', 'not', 'or', 'pass', 'raise', 'return', 'try', 'while', 'with', 'yield']\n"
          ]
        }
      ]
    },
    {
      "cell_type": "markdown",
      "source": [
        "#3. Count digits in a number !!!"
      ],
      "metadata": {
        "id": "oapPG4BhTe0b"
      }
    },
    {
      "cell_type": "code",
      "source": [
        "x = int(input(\"Enter x:\\n\"))\n",
        "\n",
        "res = 0\n",
        "\n",
        "while x>0:\n",
        "\n",
        "    x=x//10\n",
        "    res = res + 1\n",
        "\n",
        "print(\"count of digit is :\",res)"
      ],
      "metadata": {
        "id": "ad5FAMiThTsY",
        "outputId": "6f098543-cd02-46a6-99a5-cb8d9e73506b",
        "colab": {
          "base_uri": "https://localhost:8080/"
        }
      },
      "execution_count": 27,
      "outputs": [
        {
          "output_type": "stream",
          "name": "stdout",
          "text": [
            "Enter x:\n",
            "333\n",
            "count of digit is : 3\n"
          ]
        }
      ]
    },
    {
      "cell_type": "code",
      "source": [],
      "metadata": {
        "id": "2mzfPyw1Vbrs"
      },
      "execution_count": null,
      "outputs": []
    }
  ]
}