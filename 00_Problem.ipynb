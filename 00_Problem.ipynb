{
  "nbformat": 4,
  "nbformat_minor": 0,
  "metadata": {
    "colab": {
      "provenance": [],
      "toc_visible": true,
      "authorship_tag": "ABX9TyO3gXbo0nMrnt79IlK6loFr",
      "include_colab_link": true
    },
    "kernelspec": {
      "name": "python3",
      "display_name": "Python 3"
    },
    "language_info": {
      "name": "python"
    }
  },
  "cells": [
    {
      "cell_type": "markdown",
      "metadata": {
        "id": "view-in-github",
        "colab_type": "text"
      },
      "source": [
        "<a href=\"https://colab.research.google.com/github/PavelBodle/Python-DSA/blob/main/00_Problem.ipynb\" target=\"_parent\"><img src=\"https://colab.research.google.com/assets/colab-badge.svg\" alt=\"Open In Colab\"/></a>"
      ]
    },
    {
      "cell_type": "markdown",
      "source": [
        "1. Writing a Python Program to find the Sum of First n Natural Numbers using the while Loop."
      ],
      "metadata": {
        "id": "1zky-5tP4izu"
      }
    },
    {
      "cell_type": "code",
      "execution_count": 6,
      "metadata": {
        "id": "baWs3Jz-3eUQ",
        "outputId": "474579cf-1117-4ee9-b2bb-c0541f86b471",
        "colab": {
          "base_uri": "https://localhost:8080/"
        }
      },
      "outputs": [
        {
          "name": "stdout",
          "output_type": "stream",
          "text": [
            "Enter any number: 5\n"
          ]
        }
      ],
      "source": [
        "n = int(input(f\"Enter any number: \"))"
      ]
    },
    {
      "cell_type": "code",
      "source": [
        "sum=0\n",
        "\n",
        "while n > 0:\n",
        "  sum += n\n",
        "  n -= 1\n",
        "\n",
        "print(f\"Sum of n natural numbers -> {sum}\")"
      ],
      "metadata": {
        "id": "pT9f_sxz4w5U",
        "outputId": "0f185cb6-8543-485b-9107-7be5d4ce721c",
        "colab": {
          "base_uri": "https://localhost:8080/"
        }
      },
      "execution_count": 7,
      "outputs": [
        {
          "output_type": "stream",
          "name": "stdout",
          "text": [
            "Sum of n natural numbers -> 15\n"
          ]
        }
      ]
    },
    {
      "cell_type": "code",
      "source": [],
      "metadata": {
        "id": "WodwBHJa5QSc"
      },
      "execution_count": 4,
      "outputs": []
    }
  ]
}